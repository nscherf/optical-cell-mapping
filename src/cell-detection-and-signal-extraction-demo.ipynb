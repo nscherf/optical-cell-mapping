{
 "cells": [
  {
   "cell_type": "code",
   "execution_count": 2,
   "metadata": {},
   "outputs": [],
   "source": [
    "using ImageView\n",
    "using Images\n",
    "using HDF5"
   ]
  },
  {
   "cell_type": "code",
   "execution_count": null,
   "metadata": {
    "collapsed": true
   },
   "outputs": [],
   "source": [
    "\n",
    "#push!(LOAD_PATH,\"/Users/scherf/dev/myJuliaPackages/\")\n",
    "#using myImageAnalyzer #doesn't yet work as intended\n",
    "#res = mySegmentation(\"/Users/scherf/Documents/heart_new/data/150204-e004-tp1/tp00000_ch2_VSilent/\", t=0.12);\n",
    "#res2 = mySizeFilter(res);\n",
    "#test = extractSignals(\"/Users/scherf/Documents/heart_new/data/150204-e004-tp1/tp00000_ch1_VSilent/\", res2);\n",
    "#myStack2HDF5(res2, \"/Users/scherf/Documents/heart_new/segmentation/150204-e004-36-filtered.h5\")\n",
    "#exportSignal(\"/Users/scherf/Documents/heart_new/segmentation/150204-e004-36-signal.h5\", test)\n",
    "#change DoG to rmin = 3, rmax = 6\n",
    "#limg = imread(\"/Users/scherf/Documents/heart_new/segmentation/150204-e004-36-manual-labels.tif\")\n",
    "#limg = myLabelConvert(limg);\n",
    "#test = extractSignals(\"/Users/scherf/Documents/heart_new/data/150204-e004-tp1/tp00000_ch1_VSilent/\", limg);\n",
    "#exportSignal(\"/Users/scherf/Documents/heart_new/segmentation/150204-e004-36-signal-curated.h5\", test)"
   ]
  },
  {
   "cell_type": "code",
   "execution_count": 3,
   "metadata": {},
   "outputs": [
    {
     "data": {
      "text/plain": [
       "3-element Array{Any,1}:\n",
       " \"/home/nico/bin/julia/local/share/julia/site/v0.6\"\n",
       " \"/home/nico/bin/julia/share/julia/site/v0.6\"      \n",
       " \"./\"                                              "
      ]
     },
     "execution_count": 3,
     "metadata": {},
     "output_type": "execute_result"
    }
   ],
   "source": [
    "push!(LOAD_PATH,\"./\")"
   ]
  },
  {
   "cell_type": "code",
   "execution_count": 4,
   "metadata": {
    "scrolled": true
   },
   "outputs": [],
   "source": [
    "using CellAnalyzer"
   ]
  },
  {
   "cell_type": "code",
   "execution_count": 5,
   "metadata": {},
   "outputs": [
    {
     "name": "stdout",
     "output_type": "stream",
     "text": [
      "String[\"../data/myl7-H2A-mCherry/140609-e012-53.tif\"]\n"
     ]
    },
    {
     "ename": "LoadError",
     "evalue": "\u001b[91mFileIO.File{FileIO.DataFormat{:UNKNOWN}}(\"/media/nico/C290532090531A6D/dev/optical-cell-mapping/data/myl7-H2A-mCherry/140609-e012-53.tif\") couldn't be recognized by FileIO.\n\u001b[39m",
     "output_type": "error",
     "traceback": [
      "\u001b[91mFileIO.File{FileIO.DataFormat{:UNKNOWN}}(\"/media/nico/C290532090531A6D/dev/optical-cell-mapping/data/myl7-H2A-mCherry/140609-e012-53.tif\") couldn't be recognized by FileIO.\n\u001b[39m",
      "",
      "Stacktrace:",
      " [1] \u001b[1m#load#20\u001b[22m\u001b[22m\u001b[1m(\u001b[22m\u001b[22m::Array{Any,1}, ::Function, ::FileIO.File{FileIO.DataFormat{:UNKNOWN}}\u001b[1m)\u001b[22m\u001b[22m at \u001b[1m/home/nico/.julia/v0.6/FileIO/src/loadsave.jl:88\u001b[22m\u001b[22m",
      " [2] \u001b[1mload\u001b[22m\u001b[22m\u001b[1m(\u001b[22m\u001b[22m::FileIO.File{FileIO.DataFormat{:UNKNOWN}}\u001b[1m)\u001b[22m\u001b[22m at \u001b[1m/home/nico/.julia/v0.6/FileIO/src/loadsave.jl:86\u001b[22m\u001b[22m",
      " [3] \u001b[1m#load#13\u001b[22m\u001b[22m\u001b[1m(\u001b[22m\u001b[22m::Array{Any,1}, ::Function, ::String\u001b[1m)\u001b[22m\u001b[22m at \u001b[1m/home/nico/.julia/v0.6/FileIO/src/loadsave.jl:52\u001b[22m\u001b[22m",
      " [4] \u001b[1mmyMeanImageFromFiles\u001b[22m\u001b[22m\u001b[1m(\u001b[22m\u001b[22m::Array{String,1}\u001b[1m)\u001b[22m\u001b[22m at \u001b[1m/media/nico/C290532090531A6D/dev/optical-cell-mapping/src/CellAnalyzer.jl:199\u001b[22m\u001b[22m",
      " [5] \u001b[1mmyImagePreprocess\u001b[22m\u001b[22m\u001b[1m(\u001b[22m\u001b[22m::String\u001b[1m)\u001b[22m\u001b[22m at \u001b[1m/media/nico/C290532090531A6D/dev/optical-cell-mapping/src/CellAnalyzer.jl:223\u001b[22m\u001b[22m",
      " [6] \u001b[1m#mySegmentation#14\u001b[22m\u001b[22m\u001b[1m(\u001b[22m\u001b[22m::Float64, ::Function, ::String\u001b[1m)\u001b[22m\u001b[22m at \u001b[1m/media/nico/C290532090531A6D/dev/optical-cell-mapping/src/CellAnalyzer.jl:232\u001b[22m\u001b[22m",
      " [7] \u001b[1mmySegmentation\u001b[22m\u001b[22m\u001b[1m(\u001b[22m\u001b[22m::String\u001b[1m)\u001b[22m\u001b[22m at \u001b[1m/media/nico/C290532090531A6D/dev/optical-cell-mapping/src/CellAnalyzer.jl:232\u001b[22m\u001b[22m",
      " [8] \u001b[1minclude_string\u001b[22m\u001b[22m\u001b[1m(\u001b[22m\u001b[22m::String, ::String\u001b[1m)\u001b[22m\u001b[22m at \u001b[1m./loading.jl:515\u001b[22m\u001b[22m"
     ]
    }
   ],
   "source": [
    "res=mySegmentation(\"../data/myl7-H2A-mCherry/\")"
   ]
  },
  {
   "cell_type": "code",
   "execution_count": 6,
   "metadata": {},
   "outputs": [
    {
     "ename": "LoadError",
     "evalue": "\u001b[91mFileIO.File{FileIO.DataFormat{:UNKNOWN}}(\"/media/nico/C290532090531A6D/dev/optical-cell-mapping/data/myl7-H2A-mCherry/140609-e012-53.tif\") couldn't be recognized by FileIO.\n\u001b[39m",
     "output_type": "error",
     "traceback": [
      "\u001b[91mFileIO.File{FileIO.DataFormat{:UNKNOWN}}(\"/media/nico/C290532090531A6D/dev/optical-cell-mapping/data/myl7-H2A-mCherry/140609-e012-53.tif\") couldn't be recognized by FileIO.\n\u001b[39m",
      "",
      "Stacktrace:",
      " [1] \u001b[1m#load#20\u001b[22m\u001b[22m\u001b[1m(\u001b[22m\u001b[22m::Array{Any,1}, ::Function, ::FileIO.File{FileIO.DataFormat{:UNKNOWN}}\u001b[1m)\u001b[22m\u001b[22m at \u001b[1m/home/nico/.julia/v0.6/FileIO/src/loadsave.jl:88\u001b[22m\u001b[22m",
      " [2] \u001b[1mload\u001b[22m\u001b[22m\u001b[1m(\u001b[22m\u001b[22m::FileIO.File{FileIO.DataFormat{:UNKNOWN}}\u001b[1m)\u001b[22m\u001b[22m at \u001b[1m/home/nico/.julia/v0.6/FileIO/src/loadsave.jl:86\u001b[22m\u001b[22m",
      " [3] \u001b[1m#load#13\u001b[22m\u001b[22m\u001b[1m(\u001b[22m\u001b[22m::Array{Any,1}, ::Function, ::String\u001b[1m)\u001b[22m\u001b[22m at \u001b[1m/home/nico/.julia/v0.6/FileIO/src/loadsave.jl:52\u001b[22m\u001b[22m",
      " [4] \u001b[1mload\u001b[22m\u001b[22m\u001b[1m(\u001b[22m\u001b[22m::String\u001b[1m)\u001b[22m\u001b[22m at \u001b[1m/home/nico/.julia/v0.6/FileIO/src/loadsave.jl:52\u001b[22m\u001b[22m",
      " [5] \u001b[1minclude_string\u001b[22m\u001b[22m\u001b[1m(\u001b[22m\u001b[22m::String, ::String\u001b[1m)\u001b[22m\u001b[22m at \u001b[1m./loading.jl:515\u001b[22m\u001b[22m"
     ]
    }
   ],
   "source": [
    "Images.load(\"/media/nico/C290532090531A6D/dev/optical-cell-mapping/data/myl7-H2A-mCherry/140609-e012-53.tif\")"
   ]
  },
  {
   "cell_type": "code",
   "execution_count": null,
   "metadata": {
    "collapsed": true
   },
   "outputs": [],
   "source": []
  }
 ],
 "metadata": {
  "kernelspec": {
   "display_name": "Julia 0.6.0",
   "language": "julia",
   "name": "julia-0.6"
  },
  "language_info": {
   "file_extension": ".jl",
   "mimetype": "application/julia",
   "name": "julia",
   "version": "0.6.0"
  }
 },
 "nbformat": 4,
 "nbformat_minor": 2
}
